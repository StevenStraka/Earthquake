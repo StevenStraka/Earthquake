{
 "cells": [
  {
   "cell_type": "markdown",
   "metadata": {},
   "source": [
    "## Read and Parse geojson earthquake data from USGS example\n",
    "\n",
    "&nbsp;\n",
    "https://earthquake.usgs.gov/earthquakes/ \n",
    "\n",
    "&nbsp;\n",
    "https://earthquake.usgs.gov/earthquakes/map/\n",
    "\n",
    "&nbsp;\n",
    "https://earthquake.usgs.gov/earthquakes/feed/v1.0/geojson.php"
   ]
  },
  {
   "cell_type": "code",
   "execution_count": null,
   "metadata": {},
   "outputs": [],
   "source": [
    "# import ipywidgets as widgets\n",
    "import os\n",
    "import folium\n",
    "\n",
    "from folium.plugins import MarkerCluster\n",
    "from datetime import datetime, timedelta\n",
    "import read_earthquake_data_classes as eqc"
   ]
  },
  {
   "cell_type": "code",
   "execution_count": null,
   "metadata": {},
   "outputs": [],
   "source": [
    "url = 'https://earthquake.usgs.gov/earthquakes/feed/v1.0/summary/2.5_day.geojson'\n",
    "earthquakes = eqc.AllEarthquakes(url)"
   ]
  },
  {
   "cell_type": "code",
   "execution_count": null,
   "metadata": {},
   "outputs": [],
   "source": [
    "#Create the map\n",
    "boulder_coords = [40.015, -105.2705]\n",
    "my_map = folium.Map(location = boulder_coords, tiles=\"cartodb positron\", zoom_start = 2)\n",
    "\n",
    "folium.GeoJson('C:/Progs/Python/Earthquake/TectonicPlateBoundaries.geojson',style_function=lambda feature: {\n",
    "        \"fillColor\": \"#ffff00\",\n",
    "        \"color\": \"red\",\n",
    "        \"weight\": 1,\n",
    "    },).add_to(my_map)\n",
    "\n",
    "#data = earthquakes.get_earthquakes_coords_dict()\n",
    "\n",
    "for quake in earthquakes.earthquakes:\n",
    "    \n",
    "    radius = quake.mag * 2.5\n",
    "    \n",
    "    timestamp = quake.time/1000\n",
    "    dt_object = datetime.fromtimestamp(timestamp)\n",
    "    current_datetime = datetime.now()\n",
    "    one_hour = timedelta(hours=1)\n",
    "    time_difference = current_datetime - dt_object\n",
    "\n",
    "    if time_difference <= one_hour:\n",
    "        folium.CircleMarker(\n",
    "        location=[quake.location.lat, quake.location.lon],\n",
    "        radius=radius,\n",
    "        color=\"red\",\n",
    "        stroke=False,\n",
    "        fill=True,\n",
    "        fill_opacity=0.99,\n",
    "        opacity=1,\n",
    "        popup=\"{} pixels\".format(radius),\n",
    "        tooltip=quake.title,\n",
    "        ).add_to(my_map)\n",
    "    else:\n",
    "        folium.CircleMarker(\n",
    "        location=[quake.location.lat, quake.location.lon],\n",
    "        radius=radius,\n",
    "        color=\"orange\",\n",
    "        stroke=False,\n",
    "        fill=True,\n",
    "        fill_opacity=0.75,\n",
    "        opacity=1,\n",
    "        popup=\"{} pixels\".format(radius),\n",
    "        tooltip=quake.title,\n",
    "        ).add_to(my_map)\n",
    "    \n",
    "\n",
    "#Display the map\n",
    "my_map"
   ]
  },
  {
   "cell_type": "code",
   "execution_count": null,
   "metadata": {},
   "outputs": [],
   "source": []
  },
  {
   "cell_type": "code",
   "execution_count": null,
   "metadata": {},
   "outputs": [],
   "source": []
  }
 ],
 "metadata": {
  "kernelspec": {
   "display_name": "base",
   "language": "python",
   "name": "python3"
  },
  "language_info": {
   "codemirror_mode": {
    "name": "ipython",
    "version": 3
   },
   "file_extension": ".py",
   "mimetype": "text/x-python",
   "name": "python",
   "nbconvert_exporter": "python",
   "pygments_lexer": "ipython3",
   "version": "3.12.9"
  }
 },
 "nbformat": 4,
 "nbformat_minor": 4
}
